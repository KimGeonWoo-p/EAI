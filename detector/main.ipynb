{
 "cells": [
  {
   "cell_type": "code",
   "execution_count": null,
   "metadata": {},
   "outputs": [
    {
     "ename": "",
     "evalue": "",
     "output_type": "error",
     "traceback": [
      "\u001b[1;31mRunning cells with 'EAI (Python 3.8.0)' requires the ipykernel package.\n",
      "\u001b[1;31mRun the following command to install 'ipykernel' into the Python environment. \n",
      "\u001b[1;31mCommand: 'conda install -n EAI ipykernel --update-deps --force-reinstall'"
     ]
    }
   ],
   "source": [
    "import os\n",
    "import tensorflow as tf\n",
    "import numpy as np\n",
    "from tensorflow.keras.preprocessing.image import load_img, img_to_array\n",
    "from tensorflow.keras.preprocessing.sequence import pad_sequences\n",
    "\n",
    "\n",
    "IMAGE_SIZE = (416, 416)  # 모델 입력 크기 (예: 224x224)\n",
    "\n",
    "# 이미지와 클래스 값만 로드\n",
    "def load_data(image_folder, label_folder):\n",
    "    images = []\n",
    "    labels = []\n",
    "\n",
    "    for image_name in os.listdir(image_folder):\n",
    "        if image_name.endswith(\".jpg\"):\n",
    "            # 이미지 경로\n",
    "            image_path = os.path.join(image_folder, image_name)\n",
    "\n",
    "            # 라벨 경로\n",
    "            label_name = image_name.replace(\".jpg\", \".txt\")\n",
    "            label_path = os.path.join(label_folder, label_name)\n",
    "\n",
    "            # 이미지 로드\n",
    "            image = load_img(image_path, target_size=IMAGE_SIZE)\n",
    "            image = img_to_array(image) / 255.0  # 정규화\n",
    "            images.append(image)\n",
    "\n",
    "            # 라벨 로드 (클래스 값만 추출)\n",
    "            classes = []\n",
    "            if os.path.exists(label_path):\n",
    "                with open(label_path, \"r\") as f:\n",
    "                    for line in f.readlines():\n",
    "                        class_id = int(line.split()[0])  # 첫 번째 값이 클래스 ID\n",
    "                        classes.append(class_id)\n",
    "            labels.append(classes)\n",
    "\n",
    "    labels = pad_sequences(labels, padding='post', maxlen=3)\n",
    "    \n",
    "    # Tensor 변환\n",
    "    tensor = tf.convert_to_tensor(labels, dtype=tf.float32)\n",
    "    return np.array(images), tensor"
   ]
  },
  {
   "cell_type": "code",
   "execution_count": 3,
   "metadata": {},
   "outputs": [
    {
     "name": "stdout",
     "output_type": "stream",
     "text": [
      "Is GPU available?: [PhysicalDevice(name='/physical_device:GPU:0', device_type='GPU')]\n"
     ]
    }
   ],
   "source": [
    "\n",
    "# GPU 사용 여부 확인\n",
    "print(\"Is GPU available?:\", tf.config.list_physical_devices('GPU'))"
   ]
  },
  {
   "cell_type": "code",
   "execution_count": 9,
   "metadata": {},
   "outputs": [
    {
     "ename": "ImportError",
     "evalue": "cannot import name 'Iamge' from 'PIL' (/home/user/anaconda3/envs/EAI/lib/python3.10/site-packages/PIL/__init__.py)",
     "output_type": "error",
     "traceback": [
      "\u001b[0;31m---------------------------------------------------------------------------\u001b[0m",
      "\u001b[0;31mImportError\u001b[0m                               Traceback (most recent call last)",
      "Cell \u001b[0;32mIn[9], line 1\u001b[0m\n\u001b[0;32m----> 1\u001b[0m \u001b[38;5;28;01mfrom\u001b[39;00m \u001b[38;5;21;01mPIL\u001b[39;00m \u001b[38;5;28;01mimport\u001b[39;00m Iamge\n",
      "\u001b[0;31mImportError\u001b[0m: cannot import name 'Iamge' from 'PIL' (/home/user/anaconda3/envs/EAI/lib/python3.10/site-packages/PIL/__init__.py)"
     ]
    }
   ],
   "source": [
    "from PIL import Iamge"
   ]
  },
  {
   "cell_type": "code",
   "execution_count": 7,
   "metadata": {},
   "outputs": [
    {
     "ename": "ImportError",
     "evalue": "Could not import PIL.Image. The use of `load_img` requires PIL.",
     "output_type": "error",
     "traceback": [
      "\u001b[0;31m---------------------------------------------------------------------------\u001b[0m",
      "\u001b[0;31mImportError\u001b[0m                               Traceback (most recent call last)",
      "Cell \u001b[0;32mIn[7], line 1\u001b[0m\n\u001b[0;32m----> 1\u001b[0m X_train, y_train \u001b[38;5;241m=\u001b[39m \u001b[43mload_data\u001b[49m\u001b[43m(\u001b[49m\u001b[38;5;124;43m'\u001b[39;49m\u001b[38;5;124;43mtrain/images\u001b[39;49m\u001b[38;5;124;43m'\u001b[39;49m\u001b[43m,\u001b[49m\u001b[43m \u001b[49m\u001b[38;5;124;43m'\u001b[39;49m\u001b[38;5;124;43mtrain/labels\u001b[39;49m\u001b[38;5;124;43m'\u001b[39;49m\u001b[43m)\u001b[49m\n",
      "Cell \u001b[0;32mIn[2], line 25\u001b[0m, in \u001b[0;36mload_data\u001b[0;34m(image_folder, label_folder)\u001b[0m\n\u001b[1;32m     22\u001b[0m label_path \u001b[38;5;241m=\u001b[39m os\u001b[38;5;241m.\u001b[39mpath\u001b[38;5;241m.\u001b[39mjoin(label_folder, label_name)\n\u001b[1;32m     24\u001b[0m \u001b[38;5;66;03m# 이미지 로드\u001b[39;00m\n\u001b[0;32m---> 25\u001b[0m image \u001b[38;5;241m=\u001b[39m \u001b[43mload_img\u001b[49m\u001b[43m(\u001b[49m\u001b[43mimage_path\u001b[49m\u001b[43m,\u001b[49m\u001b[43m \u001b[49m\u001b[43mtarget_size\u001b[49m\u001b[38;5;241;43m=\u001b[39;49m\u001b[43mIMAGE_SIZE\u001b[49m\u001b[43m)\u001b[49m\n\u001b[1;32m     26\u001b[0m image \u001b[38;5;241m=\u001b[39m img_to_array(image) \u001b[38;5;241m/\u001b[39m \u001b[38;5;241m255.0\u001b[39m  \u001b[38;5;66;03m# 정규화\u001b[39;00m\n\u001b[1;32m     27\u001b[0m images\u001b[38;5;241m.\u001b[39mappend(image)\n",
      "File \u001b[0;32m~/anaconda3/envs/EAI/lib/python3.10/site-packages/keras/src/utils/image_utils.py:227\u001b[0m, in \u001b[0;36mload_img\u001b[0;34m(path, color_mode, target_size, interpolation, keep_aspect_ratio)\u001b[0m\n\u001b[1;32m    195\u001b[0m \u001b[38;5;250m\u001b[39m\u001b[38;5;124;03m\"\"\"Loads an image into PIL format.\u001b[39;00m\n\u001b[1;32m    196\u001b[0m \n\u001b[1;32m    197\u001b[0m \u001b[38;5;124;03mExample:\u001b[39;00m\n\u001b[0;32m   (...)\u001b[0m\n\u001b[1;32m    224\u001b[0m \u001b[38;5;124;03m    A PIL Image instance.\u001b[39;00m\n\u001b[1;32m    225\u001b[0m \u001b[38;5;124;03m\"\"\"\u001b[39;00m\n\u001b[1;32m    226\u001b[0m \u001b[38;5;28;01mif\u001b[39;00m pil_image \u001b[38;5;129;01mis\u001b[39;00m \u001b[38;5;28;01mNone\u001b[39;00m:\n\u001b[0;32m--> 227\u001b[0m     \u001b[38;5;28;01mraise\u001b[39;00m \u001b[38;5;167;01mImportError\u001b[39;00m(\n\u001b[1;32m    228\u001b[0m         \u001b[38;5;124m\"\u001b[39m\u001b[38;5;124mCould not import PIL.Image. The use of `load_img` requires PIL.\u001b[39m\u001b[38;5;124m\"\u001b[39m\n\u001b[1;32m    229\u001b[0m     )\n\u001b[1;32m    230\u001b[0m \u001b[38;5;28;01mif\u001b[39;00m \u001b[38;5;28misinstance\u001b[39m(path, io\u001b[38;5;241m.\u001b[39mBytesIO):\n\u001b[1;32m    231\u001b[0m     img \u001b[38;5;241m=\u001b[39m pil_image\u001b[38;5;241m.\u001b[39mopen(path)\n",
      "\u001b[0;31mImportError\u001b[0m: Could not import PIL.Image. The use of `load_img` requires PIL."
     ]
    }
   ],
   "source": [
    "X_train, y_train = load_data('train/images', 'train/labels')"
   ]
  },
  {
   "cell_type": "code",
   "execution_count": null,
   "metadata": {},
   "outputs": [],
   "source": [
    "X_test, y_test = load_data('test/images', 'test/labels')"
   ]
  },
  {
   "cell_type": "code",
   "execution_count": null,
   "metadata": {},
   "outputs": [],
   "source": [
    "# 간단한 다중 라벨 분류 모델 정의\n",
    "def create_multi_label_model(input_shape, num_labels):\n",
    "    model = tf.keras.Sequential([\n",
    "        tf.keras.layers.InputLayer(input_shape=input_shape),\n",
    "        tf.keras.layers.Conv2D(32, (3, 3), activation='relu'),\n",
    "        tf.keras.layers.MaxPooling2D((2, 2)),\n",
    "        tf.keras.layers.Conv2D(64, (3, 3), activation='relu'),\n",
    "        tf.keras.layers.MaxPooling2D((2, 2)),\n",
    "        tf.keras.layers.Flatten(),\n",
    "        tf.keras.layers.Dense(128, activation='relu'),\n",
    "        tf.keras.layers.Dense(num_labels, activation='sigmoid')  # 다중 라벨\n",
    "    ])\n",
    "    return model\n"
   ]
  },
  {
   "cell_type": "code",
   "execution_count": null,
   "metadata": {},
   "outputs": [],
   "source": [
    "# 다중 라벨 데이터셋 준비\n",
    "def create_multi_label_dataset(images, multi_labels, batch_size=32):\n",
    "    \"\"\"\n",
    "    다중 라벨 데이터셋 생성 함수.\n",
    "    \n",
    "    Args:\n",
    "        images (np.array): 입력 이미지 배열.\n",
    "        multi_labels (np.array): 다중 라벨 배열 (One-hot 형식).\n",
    "        batch_size (int): 배치 크기.\n",
    "\n",
    "    Returns:\n",
    "        dataset (tf.data.Dataset): TensorFlow 데이터셋.\n",
    "    \"\"\"\n",
    "    dataset = tf.data.Dataset.from_tensor_slices((images, multi_labels))\n",
    "    dataset = dataset.shuffle(len(images)).batch(batch_size).prefetch(tf.data.AUTOTUNE)\n",
    "    return dataset\n"
   ]
  },
  {
   "cell_type": "code",
   "execution_count": null,
   "metadata": {},
   "outputs": [],
   "source": [
    "def train_multi_label_model(model, dataset, val_dataset=None, epochs=10, learning_rate=0.001):\n",
    "    \"\"\"\n",
    "    다중 라벨 분류를 위한 학습 함수.\n",
    "\n",
    "    Args:\n",
    "        model (tf.keras.Model): 학습할 모델.\n",
    "        dataset (tf.data.Dataset): 훈련 데이터셋. (입력 이미지, 다중 라벨 형식)\n",
    "        val_dataset (tf.data.Dataset, optional): 검증 데이터셋. Default is None.\n",
    "        epochs (int): 학습 반복 횟수. Default is 10.\n",
    "        learning_rate (float): 학습률. Default is 0.001.\n",
    "\n",
    "    Returns:\n",
    "        history (History): 학습 결과.\n",
    "    \"\"\"\n",
    "    # 옵티마이저와 손실 함수 정의\n",
    "    optimizer = tf.keras.optimizers.Adam(learning_rate=learning_rate)\n",
    "    loss_fn = tf.keras.losses.BinaryCrossentropy()  # 다중 라벨 분류를 위한 손실 함수\n",
    "\n",
    "    # 모델 컴파일\n",
    "    model.compile(optimizer=optimizer, loss=loss_fn, metrics=['accuracy'])\n",
    "\n",
    "    # 모델 학습\n",
    "    history = model.fit(\n",
    "        dataset,\n",
    "        validation_data=val_dataset,\n",
    "        epochs=epochs\n",
    "    )\n",
    "\n",
    "    return history\n"
   ]
  },
  {
   "cell_type": "code",
   "execution_count": null,
   "metadata": {},
   "outputs": [
    {
     "name": "stderr",
     "output_type": "stream",
     "text": [
      "2024-11-23 17:55:40.486857: W tensorflow/tsl/framework/cpu_allocator_impl.cc:83] Allocation of 6977617920 exceeds 10% of free system memory.\n",
      "2024-11-23 17:55:46.067044: W tensorflow/tsl/framework/cpu_allocator_impl.cc:83] Allocation of 6977617920 exceeds 10% of free system memory.\n",
      "2024-11-23 17:55:50.086052: I tensorflow/core/common_runtime/executor.cc:1197] [/device:CPU:0] (DEBUG INFO) Executor start aborting (this does not indicate an error and you can ignore this message): INVALID_ARGUMENT: You must feed a value for placeholder tensor 'Placeholder/_1' with dtype float and shape [3360,3]\n",
      "\t [[{{node Placeholder/_1}}]]\n",
      "2024-11-23 17:55:50.086398: I tensorflow/core/common_runtime/executor.cc:1197] [/device:CPU:0] (DEBUG INFO) Executor start aborting (this does not indicate an error and you can ignore this message): INVALID_ARGUMENT: You must feed a value for placeholder tensor 'Placeholder/_0' with dtype float and shape [3360,416,416,3]\n",
      "\t [[{{node Placeholder/_0}}]]\n"
     ]
    },
    {
     "name": "stdout",
     "output_type": "stream",
     "text": [
      "Epoch 1/10\n",
      " 32/105 [========>.....................] - ETA: 2:21 - loss: -3679.2207 - accuracy: 0.9688"
     ]
    }
   ],
   "source": [
    "# 데이터셋 생성\n",
    "train_dataset = create_multi_label_dataset(X_train, y_train, batch_size=32)\n",
    "val_dataset = create_multi_label_dataset(X_test, y_test, batch_size=32)  # 예: 일부 검증 데이터\n",
    "\n",
    "# 모델 생성\n",
    "input_shape = (416, 416, 3)  # 이미지 크기\n",
    "num_labels = y_train.shape[1]  # 라벨 개수 (다중 라벨의 차원)\n",
    "model = create_multi_label_model(input_shape, num_labels)\n",
    "\n",
    "# 모델 학습\n",
    "history = train_multi_label_model(model, train_dataset, val_dataset, epochs=10, learning_rate=0.001)\n",
    "\n",
    "# 학습 결과 확인\n",
    "import matplotlib.pyplot as plt\n",
    "\n",
    "# 학습 곡선 시각화\n",
    "plt.plot(history.history['loss'], label='Train Loss')\n",
    "if 'val_loss' in history.history:\n",
    "    plt.plot(history.history['val_loss'], label='Validation Loss')\n",
    "plt.xlabel('Epochs')\n",
    "plt.ylabel('Loss')\n",
    "plt.legend()\n",
    "plt.title('Model Loss')\n",
    "plt.show()\n",
    "\n",
    "plt.plot(history.history['accuracy'], label='Train Accuracy')\n",
    "if 'val_accuracy' in history.history:\n",
    "    plt.plot(history.history['val_accuracy'], label='Validation Accuracy')\n",
    "plt.xlabel('Epochs')\n",
    "plt.ylabel('Accuracy')\n",
    "plt.legend()\n",
    "plt.title('Model Accuracy')\n",
    "plt.show()\n"
   ]
  },
  {
   "cell_type": "code",
   "execution_count": null,
   "metadata": {},
   "outputs": [],
   "source": []
  }
 ],
 "metadata": {
  "kernelspec": {
   "display_name": "EAI",
   "language": "python",
   "name": "python3"
  },
  "language_info": {
   "codemirror_mode": {
    "name": "ipython",
    "version": 3
   },
   "file_extension": ".py",
   "mimetype": "text/x-python",
   "name": "python",
   "nbconvert_exporter": "python",
   "pygments_lexer": "ipython3",
   "version": "3.8.5"
  }
 },
 "nbformat": 4,
 "nbformat_minor": 2
}
